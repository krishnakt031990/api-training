{
 "cells": [
  {
   "cell_type": "markdown",
   "metadata": {},
   "source": [
    "# An Example Python Client for the demo-echo API\n",
    "\n",
    "When using [OAuth 2.0](https://tools.ietf.org/html/rfc6749) (no matter what the flow), the client app (this notebook) gets an *access token* (and optionally some other tokens like *refresh\\_token* and even an OpenID Connect *id\\_token* which identifies the end user to the client app -- when using the *openid* scope). \n",
    "\n",
    "The only token we are currently concerned with is the **access token**. \n",
    "\n",
    "Once the client app has the access token, it then adds it to the HTTP request that it sends to the Resource Server in one of two ways, either\n",
    "1. in an HTTP header: `Authorization: Bearer <token>` (preferred) or,\n",
    "2. as a query parameter: `https://example.com/resource?access_token=<token>`.\n",
    "But not both!\n",
    "\n",
    "You can get a valid access token by, for example, using Postman, and then jump down to where the token is added to the Authorization header a few lines below if you want to initially skip over the OAuth 2.0 dancing.\n",
    "\n",
    "Let's try out the [oauth2-client](https://github.com/antechrestos/OAuth2Client) Python library. You can install this with:\n",
    "```sh\n",
    "pip install oauth2-client\n",
    "```"
   ]
  },
  {
   "cell_type": "markdown",
   "metadata": {},
   "source": [
    "Upon successfully authentication and authorizing in the new tab, you'll see this message: \n",
    "\n",
    "```Response received ({\"state\": \"state_test\", \"code\": \"<random string>\"}). Result was transmitted to the original thread. You can close this window.```"
   ]
  },
  {
   "cell_type": "code",
   "execution_count": null,
   "metadata": {},
   "outputs": [],
   "source": [
    "import requests\n",
    "import webbrowser\n",
    "from oauth2_client.credentials_manager import CredentialManager, ServiceInformation, OAuthError\n",
    "import json\n",
    "import base64\n",
    "import time\n",
    "from pprint import pprint, pformat\n",
    "from jwcrypto import jwt, jwk\n",
    "import requests\n",
    "import logging\n",
    "_logger = logging.getLogger(__name__)\n",
    "_logger.setLevel('DEBUG')"
   ]
  },
  {
   "cell_type": "markdown",
   "metadata": {},
   "source": [
    "The following gets used near the end. We're basically subclassing CredentialManager to add OpenID Connect functionality."
   ]
  },
  {
   "cell_type": "code",
   "execution_count": null,
   "metadata": {},
   "outputs": [],
   "source": [
    "# subclass CredentialManager to get the id_token which is used later.\n",
    "class OpenIdCredentialManager(CredentialManager):\n",
    "    def __init__(self, service_information, proxies=None):\n",
    "        super(OpenIdCredentialManager, self).__init__(service_information, proxies)\n",
    "        self.id_token = None\n",
    "\n",
    "    def _process_token_response(self,  token_response, refresh_token_mandatory):\n",
    "        id_token = token_response.get('id_token')\n",
    "        super(OpenIdCredentialManager, self)._process_token_response(token_response, refresh_token_mandatory)\n",
    "        self.id_token = id_token"
   ]
  },
  {
   "cell_type": "markdown",
   "metadata": {},
   "source": [
    "# Composing the OAuth 2.0 Authorization Code Request\n",
    "\n",
    "The request consists of a few pieces of information: service endpoints, credentials that identify this registered client app, a redirect_uri to be called back to, and a list of scopes that the Resource Server requires for the given resource and method.\n",
    "\n",
    "## Endpoints\n",
    "\n",
    "The OAuth 2.0 service endpoints needed for Authorization Code flow are `authorize` and `token`. The particular required URLs for Columbia's PingFederate-based OAuth 2.0 services are show below and can be found in the RAML securitySchemes:\n",
    "```yaml\n",
    "#%RAML 1.0 SecurityScheme\n",
    "type: OAuth 2.0\n",
    "description: |\n",
    "  This API supports OAuth 2.0 for authorizing requests using PingFederate.\n",
    "  Please note that MuleSoft will not actually implement any OAuth 2.0 scope enforcement\n",
    "  as declared with a resource & method's `securedBy` unless you apply an one or more\n",
    "  relevant API Manager Policies:\n",
    "    - One of the `OAuth 2.0 protected` PingFederate policies.\n",
    "    - The `OAuth 2.0 scope enforcement` custom policy.\n",
    "describedBy:\n",
    "  headers:\n",
    "    Authorization?:\n",
    "      description: OAuth 2 access token. Use EITHER this or the access_token, not both.\n",
    "      type: string\n",
    "  queryParameters:\n",
    "    access_token?:\n",
    "      description: OAuth 2 access token. Use EITHER this or the Authorization header, not both.\n",
    "      type: string\n",
    "  responses:\n",
    "    401:\n",
    "      description: Bad or expired token.\n",
    "    403:\n",
    "      description: Bad OAuth request\n",
    "settings:\n",
    "  authorizationUri: https://oauth.cc.columbia.edu/as/authorization.oauth2\n",
    "  accessTokenUri: https://oauth.cc.columbia.edu/as/token.oauth2\n",
    "  authorizationGrants: \n",
    "    - authorization_code\n",
    "    - client_credentials\n",
    "  scopes: \n",
    "    !include scopes.raml\n",
    " ```\n",
    "\n",
    "## Client Credentials\n",
    "\n",
    "The `client_id` and `client_secret` were obtained from **Request API Access** in the AnyPoint API Developer console. These uniquely identify the client app to the Authorization Server (AS).\n",
    "\n",
    "<img src=\"requestAccess.png\" width=500>\n",
    "\n",
    "## Redirect URI\n",
    "\n",
    "The OAuth 2.0 Authorization Code protocol \"returns\" data to the requestor by a GET of it's request\\_uri with some query parameter which communicate back the code. This is part of the OAuth 2.0 security \"magic\". Redirect URIs have to be:\n",
    "- Registered in advance with the Authorization Server\n",
    "- Specified by the client in the \"authorize\" request\n",
    "They must match or the request is denied.\n",
    "\n",
    "Redirect URIs for clients are established by AnyPoint API Manager as part of the setup of new client apps along with other settings such as which grant types are allowed for this client and whether it should return a refresh token:\n",
    "\n",
    "<img src=\"requestUris.png\" width=450>\n",
    "\n",
    "## Scopes\n",
    "\n",
    "The required scopes for a particular endpoint can be found in the API's RAML description. For this example, a GET of the /things endpoint, the RAML shows that scopes of auth-columbia, -google or -facebook and read are required. Let's also add \"openid\" so that we get an id_token back for this client app to identify who the authorizing user is.\n",
    "\n",
    "```yaml\n",
    "/things:\n",
    "  displayName: Things\n",
    "  description: some things\n",
    "  get:\n",
    "    securedBy: # allow selection of one of columbia, facebook, or google login. \n",
    "      - oauth_2_0: { scopes: [ auth-columbia, read ] }\n",
    "      - oauth_2_0: { scopes: [ auth-google, read ] }\n",
    "      - oauth_2_0: { scopes: [ auth-facebook, read ] }\n",
    "    responses:\n",
    "      200:\n",
    "        body:\n",
    "          application/json:\n",
    "            schema: Thing\n",
    "  ...\n",
    "  post:\n",
    "    securedBy:\n",
    "      - oauth_2_0: { scopes: [ auth-columbia, demo-netphone-admin, create ] }\n",
    "      - oauth_2_0: { scopes: [ auth-google, create ] }\n",
    "      - oauth_2_0: { scopes: [ auth-facebook, create ] }\n",
    "```\n"
   ]
  },
  {
   "cell_type": "markdown",
   "metadata": {},
   "source": [
    "## My client credentials and OAuth 2 server"
   ]
  },
  {
   "cell_type": "code",
   "execution_count": null,
   "metadata": {},
   "outputs": [],
   "source": [
    "creds = {'id':'demo_client','secret':'b322573a7176A49FCBEF46554d3381d5'}\n",
    "oauth_prod = 'https://oauth.cc.columbia.edu'\n",
    "oauth_test = 'https://oauth-test.cc.columbia.edu'\n",
    "oauth_dev  = 'https://localhost:8443'\n",
    "oauth_server = oauth_dev"
   ]
  },
  {
   "cell_type": "markdown",
   "metadata": {},
   "source": [
    "## Example of scopes: auth-google, read, openid"
   ]
  },
  {
   "cell_type": "code",
   "execution_count": null,
   "metadata": {},
   "outputs": [],
   "source": [
    "service_information = ServiceInformation(\n",
    "    authorize_service = oauth_server + '/as/authorization.oauth2',\n",
    "    token_service = oauth_server + '/as/token.oauth2',\n",
    "    client_id=creds['id'],\n",
    "    client_secret=creds['secret'],\n",
    "    scopes=['auth-columbia', 'read', 'openid'],\n",
    "    skip_ssl_verifications=True if oauth_server == oauth_dev else False)"
   ]
  },
  {
   "cell_type": "code",
   "execution_count": null,
   "metadata": {},
   "outputs": [],
   "source": [
    "manager = OpenIdCredentialManager(service_information) # initialize the OAuth 2.0 client "
   ]
  },
  {
   "cell_type": "markdown",
   "metadata": {},
   "source": [
    "The redirect\\_uri must:\n",
    "1. Match one of the redirect URIs that were registered in AnyPoint API Manager for this client (\"External API Tester\") w/client\\_id and client\\_secret, above.\n",
    "2. Actually have a listener on that URI -- which the `manager.init_authorize_code_process()` launches for you."
   ]
  },
  {
   "cell_type": "code",
   "execution_count": null,
   "metadata": {},
   "outputs": [],
   "source": [
    "redirect_uri = 'http://localhost:5432/oauth2client'"
   ]
  },
  {
   "cell_type": "markdown",
   "metadata": {},
   "source": [
    "The Authorization Code flow does a bunch of browser redirects so that the Resource Owner (end user) credentials never flow through the client app itself. As you can see, you must click on the URL which opens another browser tab where the user login flow happens."
   ]
  },
  {
   "cell_type": "code",
   "execution_count": null,
   "metadata": {},
   "outputs": [],
   "source": [
    "authUrl = manager.init_authorize_code_process(redirect_uri, 'state_test')"
   ]
  },
  {
   "cell_type": "code",
   "execution_count": null,
   "metadata": {
    "scrolled": true
   },
   "outputs": [],
   "source": [
    "print('Opening this url in your browser: %s'%authUrl)\n",
    "webbrowser.open_new(authUrl)"
   ]
  },
  {
   "cell_type": "code",
   "execution_count": null,
   "metadata": {},
   "outputs": [],
   "source": [
    "code = manager.wait_and_terminate_authorize_code_process()"
   ]
  },
  {
   "cell_type": "code",
   "execution_count": null,
   "metadata": {
    "scrolled": true
   },
   "outputs": [],
   "source": [
    "print('code = %s'%code)"
   ]
  },
  {
   "cell_type": "markdown",
   "metadata": {},
   "source": [
    "The Authorization code flow gets the code via a the request\\_uri callback and then sends the code to the AS which returns back the access token."
   ]
  },
  {
   "cell_type": "code",
   "execution_count": null,
   "metadata": {},
   "outputs": [],
   "source": [
    "manager.init_with_authorize_code(redirect_uri, code)"
   ]
  },
  {
   "cell_type": "markdown",
   "metadata": {},
   "source": [
    "And here's the access token:"
   ]
  },
  {
   "cell_type": "code",
   "execution_count": null,
   "metadata": {},
   "outputs": [],
   "source": [
    "manager._access_token"
   ]
  },
  {
   "cell_type": "markdown",
   "metadata": {},
   "source": [
    "## Do the GET with the Authorization Bearer Token\n",
    "Finally, after this brief amount of basically one-time setup. Now you are read to actually issue the HTTP request to the Resource Server. This part is really easy (`manager.get()` is just `requests.get()` with the headers already set up for you):"
   ]
  },
  {
   "cell_type": "markdown",
   "metadata": {},
   "source": [
    "**NOTE** - We are no longer using Mulesoft, so this code below won't work:"
   ]
  },
  {
   "cell_type": "code",
   "execution_count": null,
   "metadata": {
    "scrolled": true
   },
   "outputs": [],
   "source": [
    "\n",
    "url = \"https://test-columbia-demo-echo.cloudhub.io/v1/api/things\"\n",
    "\n",
    "response = manager.get(url)\n",
    "print('status %s'%response.status_code)\n",
    "print(response.headers)"
   ]
  },
  {
   "cell_type": "code",
   "execution_count": null,
   "metadata": {},
   "outputs": [],
   "source": [
    "print(response.text)"
   ]
  },
  {
   "cell_type": "markdown",
   "metadata": {},
   "source": [
    "This is a weird API in that it is echoing back information that is not normally shared with the client app, namely, the result of validating the Bearer Token that the client provided. But let's crack open that JSON response just a little anyway. First, let's look at the definition of a Thing object from the RAML:\n",
    "```\n",
    "#%RAML 1.0 DataType\n",
    "type: object\n",
    "properties:\n",
    "  authorization:\n",
    "    type: string  \n",
    "  access_token:\n",
    "    type: string\n",
    "  user: \n",
    "    type: string\n",
    "  tokenContext: \n",
    "    type: string\n",
    "  groups: \n",
    "    type: string\n",
    "  scopes:\n",
    "    type: string\n",
    "  client_id:\n",
    "    type: string\n",
    "  client_name:\n",
    "    type: string\n",
    "  http_method:\n",
    "    type: string\n",
    "  http_request_uri:\n",
    "    type: string\n",
    "  x_forwarded_for:\n",
    "    type: string\n",
    "example:\n",
    "  authorization: Bearer abcdefghi123456\n",
    "  access_token: NONE\n",
    "  user: fred@columbia.edu\n",
    "  tokenContext: foo bar\n",
    "  groups: g1 g2demo-echo\n",
    "  scopes: a b c\n",
    "  client_id: 64575d23b8504c9bb1e9e7ff558c3cd3\n",
    "  client_name: another authz demo app\n",
    "  http_method: GET\n",
    "  http_request_uri: /v1/api/things\n",
    "  x_forwarded_for: 123.45.6.7\n",
    "```"
   ]
  },
  {
   "cell_type": "code",
   "execution_count": null,
   "metadata": {},
   "outputs": [],
   "source": [
    "j = json.loads(response.text)\n",
    "if j and 'tokenContext' in j:\n",
    "    tc = json.loads(j['tokenContext'])\n",
    "    if tc and 'expires_in' in tc:\n",
    "        print(\"Access token expires in %d minutes.\"%(tc['expires_in']/60))\n",
    "    "
   ]
  },
  {
   "cell_type": "markdown",
   "metadata": {},
   "source": [
    "Let's try a **POST** request where we don't have the required \"create\" scope and see what errors look like:"
   ]
  },
  {
   "cell_type": "code",
   "execution_count": null,
   "metadata": {},
   "outputs": [],
   "source": [
    "response = manager.post(url)"
   ]
  },
  {
   "cell_type": "code",
   "execution_count": null,
   "metadata": {},
   "outputs": [],
   "source": [
    "print('status %s: %s'%(response.status_code,response.text))"
   ]
  },
  {
   "cell_type": "markdown",
   "metadata": {},
   "source": [
    "## Get a new token with the required scopes: auth-columbia, create, netphone-demo-admin"
   ]
  },
  {
   "cell_type": "code",
   "execution_count": null,
   "metadata": {},
   "outputs": [],
   "source": [
    "post_service_information = ServiceInformation(\n",
    "    authorize_service= oauth_server + '/as/authorization.oauth2',\n",
    "    token_service= oauth_server + '/as/token.oauth2',\n",
    "    client_id=creds['id'],\n",
    "    client_secret=creds['secret'],\n",
    "    scopes=['auth-columbia', 'create', 'demo-netphone-admin'])\n",
    "post_manager = CredentialManager(post_service_information) # initialize the OAuth 2.0 client\n",
    "post_authUrl = post_manager.init_authorize_code_process(redirect_uri, 'state_test')\n",
    "print('Opening this url in your browser: %s'%post_authUrl)\n",
    "webbrowser.open_new(post_authUrl)"
   ]
  },
  {
   "cell_type": "markdown",
   "metadata": {},
   "source": [
    "This wait_and_terminate... appears to be timing out sometimes."
   ]
  },
  {
   "cell_type": "code",
   "execution_count": null,
   "metadata": {},
   "outputs": [],
   "source": [
    "post_code = post_manager.wait_and_terminate_authorize_code_process()\n",
    "post_manager.init_with_authorize_code(redirect_uri, post_code)"
   ]
  },
  {
   "cell_type": "code",
   "execution_count": null,
   "metadata": {},
   "outputs": [],
   "source": [
    "post_response = post_manager.post(url)\n",
    "print('status %s'%post_response.status_code)\n",
    "print(post_response.headers)\n",
    "print(post_response.text)"
   ]
  },
  {
   "cell_type": "markdown",
   "metadata": {},
   "source": [
    "# Refresh Tokens\n",
    "See the [documentation](https://github.com/antechrestos/OAuth2Client) for how to make use of refresh tokens. If you persist the refresh token, you can continue accessing the resource server without having to bug the user, after the access token expires, by getting a new one."
   ]
  },
  {
   "cell_type": "code",
   "execution_count": null,
   "metadata": {
    "scrolled": true
   },
   "outputs": [],
   "source": [
    "print(manager.refresh_token)"
   ]
  },
  {
   "cell_type": "code",
   "execution_count": null,
   "metadata": {},
   "outputs": [],
   "source": [
    "rt = manager.refresh_token\n",
    "newManager = OpenIdCredentialManager(service_information)"
   ]
  },
  {
   "cell_type": "code",
   "execution_count": null,
   "metadata": {},
   "outputs": [],
   "source": [
    "newManager.init_with_token(rt)"
   ]
  },
  {
   "cell_type": "code",
   "execution_count": null,
   "metadata": {},
   "outputs": [],
   "source": [
    "print(newManager._session.headers)"
   ]
  },
  {
   "cell_type": "code",
   "execution_count": null,
   "metadata": {},
   "outputs": [],
   "source": [
    "newResponse = newManager.get(url)\n",
    "print('status %s'%newResponse.status_code)\n",
    "print(newResponse.headers)\n",
    "print(newResponse.text)"
   ]
  },
  {
   "cell_type": "code",
   "execution_count": null,
   "metadata": {},
   "outputs": [],
   "source": [
    "print(\"We've refreshed and now the old access token (%s) is replaced by a new token (%s)\"%\n",
    "    (manager._session.headers['Authorization'][len('Bearer '):],\n",
    "    newManager._session.headers['Authorization'][len('Bearer '):]))"
   ]
  },
  {
   "cell_type": "code",
   "execution_count": null,
   "metadata": {},
   "outputs": [],
   "source": [
    "resp = manager.get(url)\n",
    "print('see if the old token still works: %s'%resp.status_code)"
   ]
  },
  {
   "cell_type": "code",
   "execution_count": null,
   "metadata": {},
   "outputs": [],
   "source": [
    "# force an rate limiting error by trying to hit the API more than 10 times in a minute:\n",
    "for i in range(100):\n",
    "    resp = manager.get(url)\n",
    "    if resp.status_code == 200:\n",
    "        print(i)\n",
    "    else:\n",
    "        print('status %s: %s'%(resp.status_code,resp.text))\n",
    "        break"
   ]
  },
  {
   "cell_type": "markdown",
   "metadata": {
    "collapsed": true
   },
   "source": [
    "## Appendix - Splitting the OpenID Connect ID Token\n",
    "Uses pwcrypto. The public keys of the AS are at https://oauth.cc.columbia.edu/pf/JWKS which can be found via https://oauth.cc.columbia.edu/.well-known/openid-configuration along with all the other oauth2/openID connect endpoints. There are likely multiple public keys -- and they get rotated frequently. The id_token's [JWT](https://tools.ietf.org/html/rfc7519) header includes the *kid* we need to use.\n",
    "\n",
    "Note that the id_token is generally short-lived (5 minutes) so if you wait too long to run these steps, jwcrypto will throw an error. This is also the case for the keys themselves."
   ]
  },
  {
   "cell_type": "code",
   "execution_count": null,
   "metadata": {},
   "outputs": [],
   "source": [
    "# import the list of public keys from the OAuth server\n",
    "keysetText = requests.get(oauth_server + '/pf/JWKS').text\n",
    "# print(keysetText)\n",
    "keyset=jwk.JWKSet().import_keyset(keysetText)"
   ]
  },
  {
   "cell_type": "markdown",
   "metadata": {},
   "source": [
    "The id_token is a [JSON Web Token](https://tools.ietf.org/html/rfc7519) (JWT, pronounced \"jot\") which is basically three base64-encoded elements separated by \".\"'s. Let's split it open to see what it looks like:"
   ]
  },
  {
   "cell_type": "code",
   "execution_count": null,
   "metadata": {},
   "outputs": [],
   "source": [
    "id_token = manager.id_token\n",
    "# check that openid token is valid, first just unencoding and printing it, then validating it.\n",
    "print(\"id_token: %s\"%id_token)\n",
    "if id_token:\n",
    "    splits = id_token.split('.')\n",
    "    for i in range(3):\n",
    "        missing_padding = 4 - len(splits[i]) % 4 # b64 encoding needs to be padded\n",
    "        if missing_padding: \n",
    "            splits[i] += '='* missing_padding\n",
    "    hdr = json.loads(base64.b64decode(splits[0]))\n",
    "    body = json.loads(base64.b64decode(splits[1]))\n",
    "    print('Header:\\n%s'%pformat(hdr))\n",
    "    print('Body:\\n%s'%pformat(body))\n",
    "    # the signature is binary junk"
   ]
  },
  {
   "cell_type": "code",
   "execution_count": null,
   "metadata": {},
   "outputs": [],
   "source": [
    "if id_token:\n",
    "    # now validate the token:\n",
    "    if 'exp' in body and int(time.time()) > body['exp']:\n",
    "        print(\"The id_token is expired. The following jwcrypto validation will fail.\")\n",
    "    try:\n",
    "        et = jwt.JWT(key=keyset, jwt=id_token)\n",
    "        st = jwt.JWT(key=keyset, jwt=et.serialize())\n",
    "        print('This is a %s id_token'%('valid' if st.token.is_valid else 'invalid'))\n",
    "        print('header:\\n%s\\nbody:\\n%s'%(pformat(json.loads(st.header)),pformat(json.loads(st.claims))))\n",
    "    except Exception as e:\n",
    "        print('Exception %s: %s'%(type(e),e))"
   ]
  },
  {
   "cell_type": "code",
   "execution_count": null,
   "metadata": {},
   "outputs": [],
   "source": []
  }
 ],
 "metadata": {
  "kernelspec": {
   "display_name": "Python 2",
   "language": "python",
   "name": "python2"
  },
  "language_info": {
   "codemirror_mode": {
    "name": "ipython",
    "version": 3
   },
   "file_extension": ".py",
   "mimetype": "text/x-python",
   "name": "python",
   "nbconvert_exporter": "python",
   "pygments_lexer": "ipython3",
   "version": "3.6.4"
  }
 },
 "nbformat": 4,
 "nbformat_minor": 2
}
