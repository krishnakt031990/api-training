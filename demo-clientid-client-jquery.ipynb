{
 "cells": [
  {
   "cell_type": "markdown",
   "metadata": {},
   "source": [
    "# demo-clientid Client in JavaScript\n",
    "\n",
    "This uses the following JavaScript packages:\n",
    "\n",
    "https://www.npmjs.com/package/node-jsdom -- Allows one to simulate a browser DOM inside a node.js app (such as this Jupyter notebook).\n",
    "\n",
    "https://www.npmjs.com/package/jquery -- Library for doing AJAX stuff\n",
    "\n",
    "See here for why we had to use `$.ajax` rather than `$.getJSON`:\n",
    "\n",
    "https://stackoverflow.com/questions/3229823/how-can-i-pass-request-headers-with-jquerys-getjson-method"
   ]
  },
  {
   "cell_type": "code",
   "execution_count": 2,
   "metadata": {
    "collapsed": true
   },
   "outputs": [],
   "source": [
    "var jsdom = require(\"node-jsdom\");"
   ]
  },
  {
   "cell_type": "markdown",
   "metadata": {},
   "source": [
    "## Get an OAuth 2.0 Access Token\n",
    "I don't currently have sample JavaScript code ot get the Client Credentials grant's Access Token. For now, go into Postman, get the Access Token, then cut and paste it here:"
   ]
  },
  {
   "cell_type": "code",
   "execution_count": 6,
   "metadata": {
    "collapsed": true
   },
   "outputs": [],
   "source": [
    "var token = 'tzxO3DqLgLhOAua5gdbnJp3HXmrV'"
   ]
  },
  {
   "cell_type": "markdown",
   "metadata": {},
   "source": [
    "A competent JavaScript developer could make this less ugly, but basically, simulate a window and then use `$.ajax` to GET with Authorization header. This same example can be found in [demo-clientid-client-jquery.html](demo-clientid-client-jquery.html) so you can see it in a real browser window."
   ]
  },
  {
   "cell_type": "code",
   "execution_count": 7,
   "metadata": {},
   "outputs": [
    {
     "name": "stdout",
     "output_type": "stream",
     "text": [
      "<h1>Hello, World</h1>\n",
      "{ data: [ { id: '1', thing: 'hello, world' } ] }\n",
      "{ id: '1', thing: 'hello, world' }\n"
     ]
    }
   ],
   "source": [
    "jsdom.env(\"\", function(err, window) {\n",
    "    if (err) {\n",
    "        console.error(err);\n",
    "        return;\n",
    "    }\n",
    "\n",
    "    var $ = require(\"jquery\")(window);\n",
    "    \n",
    "    $(\"<h1>Hello, World</h1>\").appendTo(\"body\");\n",
    "    //can't use getJSON because of requirement to set header                                                                         \n",
    "$.ajax({\n",
    "     url: 'https://columbia-demo-clientid.cloudhub.io/v1/api/stuff',\n",
    "     crossDomain: true,\n",
    "     async: true,\n",
    "     type: 'GET',\n",
    "     dataType: 'json',\n",
    "     success: function(result) { console.log(result);\n",
    "                                 //$(\"body\").append(\"result: \" + result.data[0].thing.toString());\n",
    "                                 $(\"body\").append(\"<UL>\");\n",
    "                                 $.each(result.data, function (key, value) {\n",
    "                                   console.log(value);\n",
    "                                   $(\"body\").append(\"<LI>id: \" + value.id.toString() + \" thing: \" + value.thing.toString()) + \"</L\\\n",
    "I>\";\n",
    "                                 });\n",
    "                                 $(\"body\").append(\"</UL>\");\n",
    "                               },\n",
    "     error: function(result) { console.log(result.responseText); },\n",
    "     beforeSend: function(xhr) { xhr.setRequestHeader('authorization', 'Bearer ' + token); }\n",
    "\n",
    "});\n",
    "\n",
    "                                                                         \n",
    "    console.log($(\"body\").html()); // I don't understand why this doesn't log the result:...\n",
    "\n",
    "});\n"
   ]
  },
  {
   "cell_type": "code",
   "execution_count": null,
   "metadata": {
    "collapsed": true
   },
   "outputs": [],
   "source": []
  }
 ],
 "metadata": {
  "kernelspec": {
   "display_name": "Javascript (Node.js)",
   "language": "javascript",
   "name": "javascript"
  },
  "language_info": {
   "file_extension": ".js",
   "mimetype": "application/javascript",
   "name": "javascript",
   "version": "6.11.3"
  }
 },
 "nbformat": 4,
 "nbformat_minor": 2
}
