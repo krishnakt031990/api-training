{
 "cells": [
  {
   "cell_type": "code",
   "execution_count": 2,
   "metadata": {
    "collapsed": true
   },
   "outputs": [],
   "source": [
    "#setwd(\"/Users/alan/stats\")"
   ]
  },
  {
   "cell_type": "code",
   "execution_count": 6,
   "metadata": {},
   "outputs": [
    {
     "name": "stderr",
     "output_type": "stream",
     "text": [
      "Installing package into ‘/Users/alan/Library/R/3.3/library’\n",
      "(as ‘lib’ is unspecified)\n"
     ]
    },
    {
     "name": "stdout",
     "output_type": "stream",
     "text": [
      "\n",
      "  There is a binary version available but the source version is later:\n",
      "        binary source needs_compilation\n",
      "psych 1.7.3.21  1.7.5             FALSE\n",
      "\n"
     ]
    },
    {
     "name": "stderr",
     "output_type": "stream",
     "text": [
      "installing the source package ‘psych’\n",
      "\n",
      "Installing package into ‘/Users/alan/Library/R/3.3/library’\n",
      "(as ‘lib’ is unspecified)\n"
     ]
    },
    {
     "name": "stdout",
     "output_type": "stream",
     "text": [
      "\n",
      "The downloaded binary packages are in\n",
      "\t/var/folders/v0/3_jhbcy13pb_d4jxwqt0w50sc0d_61/T//Rtmpw41ICl/downloaded_packages\n"
     ]
    },
    {
     "name": "stderr",
     "output_type": "stream",
     "text": [
      "Installing package into ‘/Users/alan/Library/R/3.3/library’\n",
      "(as ‘lib’ is unspecified)\n"
     ]
    },
    {
     "name": "stdout",
     "output_type": "stream",
     "text": [
      "\n",
      "The downloaded binary packages are in\n",
      "\t/var/folders/v0/3_jhbcy13pb_d4jxwqt0w50sc0d_61/T//Rtmpw41ICl/downloaded_packages\n"
     ]
    },
    {
     "name": "stderr",
     "output_type": "stream",
     "text": [
      "Installing package into ‘/Users/alan/Library/R/3.3/library’\n",
      "(as ‘lib’ is unspecified)\n"
     ]
    },
    {
     "name": "stdout",
     "output_type": "stream",
     "text": [
      "\n",
      "The downloaded binary packages are in\n",
      "\t/var/folders/v0/3_jhbcy13pb_d4jxwqt0w50sc0d_61/T//Rtmpw41ICl/downloaded_packages\n"
     ]
    },
    {
     "name": "stderr",
     "output_type": "stream",
     "text": [
      "Loading required package: boot\n",
      "\n",
      "Attaching package: ‘boot’\n",
      "\n",
      "The following object is masked from ‘package:psych’:\n",
      "\n",
      "    logit\n",
      "\n",
      "Loading required package: MASS\n",
      "\n",
      "Attaching package: ‘QuantPsyc’\n",
      "\n",
      "The following object is masked from ‘package:base’:\n",
      "\n",
      "    norm\n",
      "\n"
     ]
    }
   ],
   "source": [
    "install.packages(\"psych\")\n",
    "install.packages(\"aod\")\n",
    "install.packages(\"QuantPsyc\")\n",
    "install.packages(\"lsr\")\n",
    "library(psych)\n",
    "library(aod)\n",
    "library(QuantPsyc)\n",
    "library(lsr)"
   ]
  },
  {
   "cell_type": "code",
   "execution_count": 7,
   "metadata": {},
   "outputs": [
    {
     "data": {
      "text/html": [
       "<table>\n",
       "<thead><tr><th></th><th scope=col>vars</th><th scope=col>n</th><th scope=col>mean</th><th scope=col>sd</th><th scope=col>median</th><th scope=col>trimmed</th><th scope=col>mad</th><th scope=col>min</th><th scope=col>max</th><th scope=col>range</th><th scope=col>skew</th><th scope=col>kurtosis</th><th scope=col>se</th></tr></thead>\n",
       "<tbody>\n",
       "\t<tr><th scope=row>id</th><td>1         </td><td>100       </td><td>50.50     </td><td>29.0114920</td><td>50.5      </td><td>50.5000   </td><td>37.0650   </td><td> 1        </td><td>100       </td><td>99        </td><td> 0.0000000</td><td>-1.2360552</td><td>2.90114920</td></tr>\n",
       "\t<tr><th scope=row>cond*</th><td>2         </td><td>100       </td><td> 1.50     </td><td> 0.5025189</td><td> 1.5      </td><td> 1.5000   </td><td> 0.7413   </td><td> 1        </td><td>  2       </td><td> 1        </td><td> 0.0000000</td><td>-2.0199000</td><td>0.05025189</td></tr>\n",
       "\t<tr><th scope=row>verbal.pre</th><td>3         </td><td>100       </td><td>18.12     </td><td> 2.7753606</td><td>18.0      </td><td>18.0500   </td><td> 2.9652   </td><td>11        </td><td> 26       </td><td>15        </td><td> 0.1858517</td><td> 0.2366832</td><td>0.27753606</td></tr>\n",
       "\t<tr><th scope=row>verbal.post</th><td>4         </td><td>100       </td><td>23.32     </td><td> 4.4650834</td><td>23.0      </td><td>23.3625   </td><td> 4.4478   </td><td>10        </td><td> 33       </td><td>23        </td><td>-0.1186344</td><td>-0.1694354</td><td>0.44650834</td></tr>\n",
       "\t<tr><th scope=row>spatial.pre</th><td>5         </td><td>100       </td><td>14.49     </td><td> 9.8087726</td><td>13.0      </td><td>13.8375   </td><td>10.3782   </td><td> 0        </td><td> 53       </td><td>53        </td><td> 0.7937455</td><td> 0.9558524</td><td>0.98087726</td></tr>\n",
       "\t<tr><th scope=row>spatial.post</th><td>6         </td><td>100       </td><td>18.63     </td><td>12.1644083</td><td>17.5      </td><td>17.7750   </td><td>11.8608   </td><td> 0        </td><td> 63       </td><td>63        </td><td> 0.7314592</td><td> 0.4239439</td><td>1.21644083</td></tr>\n",
       "\t<tr><th scope=row>intel.pre</th><td>7         </td><td>100       </td><td>11.15     </td><td> 7.2716066</td><td>11.0      </td><td>10.6750   </td><td> 7.4130   </td><td> 0        </td><td> 37       </td><td>37        </td><td> 0.6204242</td><td> 0.1919937</td><td>0.72716066</td></tr>\n",
       "\t<tr><th scope=row>intel.post</th><td>8         </td><td>100       </td><td>13.75     </td><td> 7.8384896</td><td>13.5      </td><td>13.2750   </td><td> 8.1543   </td><td> 0        </td><td> 38       </td><td>38        </td><td> 0.5401160</td><td>-0.1230074</td><td>0.78384896</td></tr>\n",
       "</tbody>\n",
       "</table>\n"
      ],
      "text/latex": [
       "\\begin{tabular}{r|lllllllllllll}\n",
       "  & vars & n & mean & sd & median & trimmed & mad & min & max & range & skew & kurtosis & se\\\\\n",
       "\\hline\n",
       "\tid & 1          & 100        & 50.50      & 29.0114920 & 50.5       & 50.5000    & 37.0650    &  1         & 100        & 99         &  0.0000000 & -1.2360552 & 2.90114920\\\\\n",
       "\tcond* & 2          & 100        &  1.50      &  0.5025189 &  1.5       &  1.5000    &  0.7413    &  1         &   2        &  1         &  0.0000000 & -2.0199000 & 0.05025189\\\\\n",
       "\tverbal.pre & 3          & 100        & 18.12      &  2.7753606 & 18.0       & 18.0500    &  2.9652    & 11         &  26        & 15         &  0.1858517 &  0.2366832 & 0.27753606\\\\\n",
       "\tverbal.post & 4          & 100        & 23.32      &  4.4650834 & 23.0       & 23.3625    &  4.4478    & 10         &  33        & 23         & -0.1186344 & -0.1694354 & 0.44650834\\\\\n",
       "\tspatial.pre & 5          & 100        & 14.49      &  9.8087726 & 13.0       & 13.8375    & 10.3782    &  0         &  53        & 53         &  0.7937455 &  0.9558524 & 0.98087726\\\\\n",
       "\tspatial.post & 6          & 100        & 18.63      & 12.1644083 & 17.5       & 17.7750    & 11.8608    &  0         &  63        & 63         &  0.7314592 &  0.4239439 & 1.21644083\\\\\n",
       "\tintel.pre & 7          & 100        & 11.15      &  7.2716066 & 11.0       & 10.6750    &  7.4130    &  0         &  37        & 37         &  0.6204242 &  0.1919937 & 0.72716066\\\\\n",
       "\tintel.post & 8          & 100        & 13.75      &  7.8384896 & 13.5       & 13.2750    &  8.1543    &  0         &  38        & 38         &  0.5401160 & -0.1230074 & 0.78384896\\\\\n",
       "\\end{tabular}\n"
      ],
      "text/markdown": [
       "\n",
       "| <!--/--> | vars | n | mean | sd | median | trimmed | mad | min | max | range | skew | kurtosis | se | \n",
       "|---|---|---|---|---|---|---|---|\n",
       "| id | 1          | 100        | 50.50      | 29.0114920 | 50.5       | 50.5000    | 37.0650    |  1         | 100        | 99         |  0.0000000 | -1.2360552 | 2.90114920 | \n",
       "| cond* | 2          | 100        |  1.50      |  0.5025189 |  1.5       |  1.5000    |  0.7413    |  1         |   2        |  1         |  0.0000000 | -2.0199000 | 0.05025189 | \n",
       "| verbal.pre | 3          | 100        | 18.12      |  2.7753606 | 18.0       | 18.0500    |  2.9652    | 11         |  26        | 15         |  0.1858517 |  0.2366832 | 0.27753606 | \n",
       "| verbal.post | 4          | 100        | 23.32      |  4.4650834 | 23.0       | 23.3625    |  4.4478    | 10         |  33        | 23         | -0.1186344 | -0.1694354 | 0.44650834 | \n",
       "| spatial.pre | 5          | 100        | 14.49      |  9.8087726 | 13.0       | 13.8375    | 10.3782    |  0         |  53        | 53         |  0.7937455 |  0.9558524 | 0.98087726 | \n",
       "| spatial.post | 6          | 100        | 18.63      | 12.1644083 | 17.5       | 17.7750    | 11.8608    |  0         |  63        | 63         |  0.7314592 |  0.4239439 | 1.21644083 | \n",
       "| intel.pre | 7          | 100        | 11.15      |  7.2716066 | 11.0       | 10.6750    |  7.4130    |  0         |  37        | 37         |  0.6204242 |  0.1919937 | 0.72716066 | \n",
       "| intel.post | 8          | 100        | 13.75      |  7.8384896 | 13.5       | 13.2750    |  8.1543    |  0         |  38        | 38         |  0.5401160 | -0.1230074 | 0.78384896 | \n",
       "\n",
       "\n"
      ],
      "text/plain": [
       "             vars n   mean  sd         median trimmed mad     min max range\n",
       "id           1    100 50.50 29.0114920 50.5   50.5000 37.0650  1  100 99   \n",
       "cond*        2    100  1.50  0.5025189  1.5    1.5000  0.7413  1    2  1   \n",
       "verbal.pre   3    100 18.12  2.7753606 18.0   18.0500  2.9652 11   26 15   \n",
       "verbal.post  4    100 23.32  4.4650834 23.0   23.3625  4.4478 10   33 23   \n",
       "spatial.pre  5    100 14.49  9.8087726 13.0   13.8375 10.3782  0   53 53   \n",
       "spatial.post 6    100 18.63 12.1644083 17.5   17.7750 11.8608  0   63 63   \n",
       "intel.pre    7    100 11.15  7.2716066 11.0   10.6750  7.4130  0   37 37   \n",
       "intel.post   8    100 13.75  7.8384896 13.5   13.2750  8.1543  0   38 38   \n",
       "             skew       kurtosis   se        \n",
       "id            0.0000000 -1.2360552 2.90114920\n",
       "cond*         0.0000000 -2.0199000 0.05025189\n",
       "verbal.pre    0.1858517  0.2366832 0.27753606\n",
       "verbal.post  -0.1186344 -0.1694354 0.44650834\n",
       "spatial.pre   0.7937455  0.9558524 0.98087726\n",
       "spatial.post  0.7314592  0.4239439 1.21644083\n",
       "intel.pre     0.6204242  0.1919937 0.72716066\n",
       "intel.post    0.5401160 -0.1230074 0.78384896"
      ]
     },
     "metadata": {},
     "output_type": "display_data"
    }
   ],
   "source": [
    "data <- read.table(\"Stats1.13.HW.11.txt\", header = T)\n",
    "describe(data)\n",
    "data$id = factor(data$id)"
   ]
  },
  {
   "cell_type": "code",
   "execution_count": 8,
   "metadata": {},
   "outputs": [
    {
     "name": "stdout",
     "output_type": "stream",
     "text": [
      "[1] \"1. Using a t-test, compare verbal scores before and after training in the fixed condition. Is the difference pre-test to post-test significant?\"\n"
     ]
    },
    {
     "data": {
      "text/plain": [
       "\n",
       "\tPaired t-test\n",
       "\n",
       "data:  data.f$verbal.post and data.f$verbal.pre\n",
       "t = 7.0766, df = 49, p-value = 5.048e-09\n",
       "alternative hypothesis: true difference in means is not equal to 0\n",
       "95 percent confidence interval:\n",
       " 2.49177 4.46823\n",
       "sample estimates:\n",
       "mean of the differences \n",
       "                   3.48 \n"
      ]
     },
     "metadata": {},
     "output_type": "display_data"
    }
   ],
   "source": [
    "print(\"1. Using a t-test, compare verbal scores before and after training in the fixed condition. Is the difference pre-test to post-test significant?\")\n",
    "\n",
    "data.f <- subset(data,data$cond == \"fixed\")\n",
    "t.test(data.f$verbal.post,data.f$verbal.pre,paired=T) # yes"
   ]
  },
  {
   "cell_type": "code",
   "execution_count": 9,
   "metadata": {},
   "outputs": [
    {
     "name": "stdout",
     "output_type": "stream",
     "text": [
      "[1] \"2. What are the degrees of freedom for the comparison between pre-test and post-test for the spatial scores?\"\n"
     ]
    },
    {
     "data": {
      "text/plain": [
       "\n",
       "\tPaired t-test\n",
       "\n",
       "data:  data.f$spatial.post and data.f$spatial.pre\n",
       "t = 3.8701, df = 49, p-value = 0.0003218\n",
       "alternative hypothesis: true difference in means is not equal to 0\n",
       "95 percent confidence interval:\n",
       " 2.096044 6.623956\n",
       "sample estimates:\n",
       "mean of the differences \n",
       "                   4.36 \n"
      ]
     },
     "metadata": {},
     "output_type": "display_data"
    }
   ],
   "source": [
    "print(\"2. What are the degrees of freedom for the comparison between pre-test and post-test for the spatial scores?\")\n",
    "\n",
    "t.test(data.f$spatial.post,data.f$spatial.pre,paired=T) # 49"
   ]
  },
  {
   "cell_type": "code",
   "execution_count": 10,
   "metadata": {},
   "outputs": [
    {
     "name": "stdout",
     "output_type": "stream",
     "text": [
      "[1] \"3. Run a Wilcoxon test for the same comparison (pre-test to post-test on spatial scores, fixed condition). Which of the two tests gives the highest p-value for the comparison?\"\n"
     ]
    },
    {
     "name": "stderr",
     "output_type": "stream",
     "text": [
      "Warning message in wilcox.test.default(data.f$spatial.pre, data.f$spatial.post, :\n",
      "“cannot compute exact p-value with ties”Warning message in wilcox.test.default(data.f$spatial.pre, data.f$spatial.post, :\n",
      "“cannot compute exact p-value with zeroes”"
     ]
    },
    {
     "data": {
      "text/plain": [
       "\n",
       "\tWilcoxon signed rank test with continuity correction\n",
       "\n",
       "data:  data.f$spatial.pre and data.f$spatial.post\n",
       "V = 230.5, p-value = 0.0004211\n",
       "alternative hypothesis: true location shift is not equal to 0\n"
      ]
     },
     "metadata": {},
     "output_type": "display_data"
    }
   ],
   "source": [
    "print(\"3. Run a Wilcoxon test for the same comparison (pre-test to post-test on spatial scores, fixed condition). Which of the two tests gives the highest p-value for the comparison?\")\n",
    "\n",
    "wilcox.test(data.f$spatial.pre,data.f$spatial.post,paired=T) # wilcoxan is higher.\n"
   ]
  },
  {
   "cell_type": "code",
   "execution_count": 12,
   "metadata": {},
   "outputs": [
    {
     "name": "stdout",
     "output_type": "stream",
     "text": [
      "[1] \"4. What is the effect size (Cohen's d) for the difference between pre-test and post-test spatial scores for the malleable condition? (round to two decimal places)\"\n"
     ]
    },
    {
     "data": {
      "text/html": [
       "0.45"
      ],
      "text/latex": [
       "0.45"
      ],
      "text/markdown": [
       "0.45"
      ],
      "text/plain": [
       "[1] 0.45"
      ]
     },
     "metadata": {},
     "output_type": "display_data"
    }
   ],
   "source": [
    "print(\"4. What is the effect size (Cohen's d) for the difference between pre-test and post-test spatial scores for the malleable condition? (round to two decimal places)\")\n",
    "data.m <- subset(data,data$cond == \"malleable\")\n",
    "\n",
    "# Cohen's d for dependent t-tests\n",
    "# d = Mean of difference scores / Standard deviation of difference scores\n",
    "\n",
    "round(cohensD(data.m$spatial.post, data.m$spatial.pre, method=\"paired\"),2) # 0.45\n",
    "# I answered the question correctly; the given answer is wrong (fixed vs. malleable)"
   ]
  },
  {
   "cell_type": "code",
   "execution_count": 13,
   "metadata": {},
   "outputs": [
    {
     "name": "stdout",
     "output_type": "stream",
     "text": [
      "[1] \"5. Which of the three tasks shows the largest improvements from pre-test to post-test, in the fixed condition?\"\n"
     ]
    },
    {
     "data": {
      "text/plain": [
       "\n",
       "\tPaired t-test\n",
       "\n",
       "data:  data.f$verbal.post and data.f$verbal.pre\n",
       "t = 7.0766, df = 49, p-value = 5.048e-09\n",
       "alternative hypothesis: true difference in means is not equal to 0\n",
       "95 percent confidence interval:\n",
       " 2.49177 4.46823\n",
       "sample estimates:\n",
       "mean of the differences \n",
       "                   3.48 \n"
      ]
     },
     "metadata": {},
     "output_type": "display_data"
    },
    {
     "data": {
      "text/plain": [
       "\n",
       "\tPaired t-test\n",
       "\n",
       "data:  data.f$spatial.post and data.f$spatial.pre\n",
       "t = 3.8701, df = 49, p-value = 0.0003218\n",
       "alternative hypothesis: true difference in means is not equal to 0\n",
       "95 percent confidence interval:\n",
       " 2.096044 6.623956\n",
       "sample estimates:\n",
       "mean of the differences \n",
       "                   4.36 \n"
      ]
     },
     "metadata": {},
     "output_type": "display_data"
    },
    {
     "data": {
      "text/plain": [
       "\n",
       "\tPaired t-test\n",
       "\n",
       "data:  data.f$intel.post and data.f$intel.pre\n",
       "t = 6.7219, df = 49, p-value = 1.789e-08\n",
       "alternative hypothesis: true difference in means is not equal to 0\n",
       "95 percent confidence interval:\n",
       " 2.103127 3.896873\n",
       "sample estimates:\n",
       "mean of the differences \n",
       "                      3 \n"
      ]
     },
     "metadata": {},
     "output_type": "display_data"
    }
   ],
   "source": [
    "print(\"5. Which of the three tasks shows the largest improvements from pre-test to post-test, in the fixed condition?\") # verbal\n",
    "\n",
    "t.test(data.f$verbal.post,data.f$verbal.pre,paired=T)\n",
    "t.test(data.f$spatial.post,data.f$spatial.pre,paired=T)\n",
    "t.test(data.f$intel.post,data.f$intel.pre,paired=T)"
   ]
  },
  {
   "cell_type": "code",
   "execution_count": 14,
   "metadata": {},
   "outputs": [
    {
     "name": "stdout",
     "output_type": "stream",
     "text": [
      "[1] \"6. Which of the three tasks shows the largest improvements from pre-test to post-test, in the malleable condition?\"\n"
     ]
    },
    {
     "data": {
      "text/plain": [
       "\n",
       "\tPaired t-test\n",
       "\n",
       "data:  data.m$verbal.post and data.m$verbal.pre\n",
       "t = 15.941, df = 49, p-value < 2.2e-16\n",
       "alternative hypothesis: true difference in means is not equal to 0\n",
       "95 percent confidence interval:\n",
       " 6.047648 7.792352\n",
       "sample estimates:\n",
       "mean of the differences \n",
       "                   6.92 \n"
      ]
     },
     "metadata": {},
     "output_type": "display_data"
    },
    {
     "data": {
      "text/plain": [
       "\n",
       "\tPaired t-test\n",
       "\n",
       "data:  data.m$spatial.post and data.m$spatial.pre\n",
       "t = 3.172, df = 49, p-value = 0.002613\n",
       "alternative hypothesis: true difference in means is not equal to 0\n",
       "95 percent confidence interval:\n",
       " 1.436555 6.403445\n",
       "sample estimates:\n",
       "mean of the differences \n",
       "                   3.92 \n"
      ]
     },
     "metadata": {},
     "output_type": "display_data"
    },
    {
     "data": {
      "text/plain": [
       "\n",
       "\tPaired t-test\n",
       "\n",
       "data:  data.m$intel.post and data.m$intel.pre\n",
       "t = 5.8542, df = 49, p-value = 3.923e-07\n",
       "alternative hypothesis: true difference in means is not equal to 0\n",
       "95 percent confidence interval:\n",
       " 1.444805 2.955195\n",
       "sample estimates:\n",
       "mean of the differences \n",
       "                    2.2 \n"
      ]
     },
     "metadata": {},
     "output_type": "display_data"
    }
   ],
   "source": [
    "print(\"6. Which of the three tasks shows the largest improvements from pre-test to post-test, in the malleable condition?\") # verbal\n",
    "\n",
    "t.test(data.m$verbal.post,data.m$verbal.pre,paired=T)\n",
    "t.test(data.m$spatial.post,data.m$spatial.pre,paired=T)\n",
    "t.test(data.m$intel.post,data.m$intel.pre,paired=T)"
   ]
  },
  {
   "cell_type": "code",
   "execution_count": 15,
   "metadata": {},
   "outputs": [
    {
     "name": "stdout",
     "output_type": "stream",
     "text": [
      "[1] \"7. Conduct Mann-Whitney comparisons between all tasks at pre-test. Which task(s) differ significantly from the other two in pre-test scores?\"\n"
     ]
    },
    {
     "data": {
      "text/plain": [
       "\n",
       "\tWilcoxon rank sum test with continuity correction\n",
       "\n",
       "data:  data$verbal.pre and data$spatial.pre\n",
       "W = 6446, p-value = 0.0004013\n",
       "alternative hypothesis: true location shift is not equal to 0\n"
      ]
     },
     "metadata": {},
     "output_type": "display_data"
    },
    {
     "data": {
      "text/plain": [
       "\n",
       "\tWilcoxon rank sum test with continuity correction\n",
       "\n",
       "data:  data$verbal.pre and data$intel.pre\n",
       "W = 8126.5, p-value = 1.968e-14\n",
       "alternative hypothesis: true location shift is not equal to 0\n"
      ]
     },
     "metadata": {},
     "output_type": "display_data"
    },
    {
     "data": {
      "text/plain": [
       "\n",
       "\tWilcoxon rank sum test with continuity correction\n",
       "\n",
       "data:  data$spatial.pre and data$intel.pre\n",
       "W = 5949, p-value = 0.02036\n",
       "alternative hypothesis: true location shift is not equal to 0\n"
      ]
     },
     "metadata": {},
     "output_type": "display_data"
    }
   ],
   "source": [
    "print(\"7. Conduct Mann-Whitney comparisons between all tasks at pre-test. Which task(s) differ significantly from the other two in pre-test scores?\") # all?\n",
    "\n",
    "wilcox.test(data$verbal.pre,data$spatial.pre,paired=F)\n",
    "wilcox.test(data$verbal.pre,data$intel.pre,paired=F)\n",
    "wilcox.test(data$spatial.pre,data$intel.pre,paired=F)"
   ]
  },
  {
   "cell_type": "code",
   "execution_count": 16,
   "metadata": {},
   "outputs": [
    {
     "name": "stdout",
     "output_type": "stream",
     "text": [
      "[1] \"8. Which feedback condition led to the largest improvements overall?\"\n"
     ]
    },
    {
     "data": {
      "text/html": [
       "1.3798788070775"
      ],
      "text/latex": [
       "1.3798788070775"
      ],
      "text/markdown": [
       "1.3798788070775"
      ],
      "text/plain": [
       "[1] 1.379879"
      ]
     },
     "metadata": {},
     "output_type": "display_data"
    },
    {
     "data": {
      "text/html": [
       "1.06204118706368"
      ],
      "text/latex": [
       "1.06204118706368"
      ],
      "text/markdown": [
       "1.06204118706368"
      ],
      "text/plain": [
       "[1] 1.062041"
      ]
     },
     "metadata": {},
     "output_type": "display_data"
    }
   ],
   "source": [
    "print(\"8. Which feedback condition led to the largest improvements overall?\")\n",
    "# malleable: 1.38 vs. 1.06 for fixed\n",
    "pre.m = data.m$verbal.pre + data.m$spatial.pre + data.m$intel.pre\n",
    "post.m = data.m$verbal.post + data.m$spatial.post + data.m$intel.post\n",
    "cohensD(pre.m, post.m, method=\"paired\")\n",
    "pre.f = data.f$verbal.pre + data.f$spatial.pre + data.f$intel.pre\n",
    "post.f = data.f$verbal.post + data.f$spatial.post + data.f$intel.post\n",
    "cohensD(pre.f, post.f, method=\"paired\")"
   ]
  },
  {
   "cell_type": "code",
   "execution_count": 17,
   "metadata": {},
   "outputs": [
    {
     "name": "stdout",
     "output_type": "stream",
     "text": [
      "[1] \"9. Which task is largely driving this effect?\"\n"
     ]
    },
    {
     "data": {
      "text/html": [
       "2.25441364213992"
      ],
      "text/latex": [
       "2.25441364213992"
      ],
      "text/markdown": [
       "2.25441364213992"
      ],
      "text/plain": [
       "[1] 2.254414"
      ]
     },
     "metadata": {},
     "output_type": "display_data"
    },
    {
     "data": {
      "text/html": [
       "0.448591237154954"
      ],
      "text/latex": [
       "0.448591237154954"
      ],
      "text/markdown": [
       "0.448591237154954"
      ],
      "text/plain": [
       "[1] 0.4485912"
      ]
     },
     "metadata": {},
     "output_type": "display_data"
    },
    {
     "data": {
      "text/html": [
       "0.827909129078524"
      ],
      "text/latex": [
       "0.827909129078524"
      ],
      "text/markdown": [
       "0.827909129078524"
      ],
      "text/plain": [
       "[1] 0.8279091"
      ]
     },
     "metadata": {},
     "output_type": "display_data"
    },
    {
     "data": {
      "text/html": [
       "1.00078419157661"
      ],
      "text/latex": [
       "1.00078419157661"
      ],
      "text/markdown": [
       "1.00078419157661"
      ],
      "text/plain": [
       "[1] 1.000784"
      ]
     },
     "metadata": {},
     "output_type": "display_data"
    },
    {
     "data": {
      "text/html": [
       "0.547315631678106"
      ],
      "text/latex": [
       "0.547315631678106"
      ],
      "text/markdown": [
       "0.547315631678106"
      ],
      "text/plain": [
       "[1] 0.5473156"
      ]
     },
     "metadata": {},
     "output_type": "display_data"
    },
    {
     "data": {
      "text/html": [
       "0.950625333446445"
      ],
      "text/latex": [
       "0.950625333446445"
      ],
      "text/markdown": [
       "0.950625333446445"
      ],
      "text/plain": [
       "[1] 0.9506253"
      ]
     },
     "metadata": {},
     "output_type": "display_data"
    }
   ],
   "source": [
    "print(\"9. Which task is largely driving this effect?\") # verbal\n",
    "cohensD(data.m$verbal.pre, data.m$verbal.post, method=\"paired\")\n",
    "cohensD(data.m$spatial.pre, data.m$spatial.post, method=\"paired\")\n",
    "cohensD(data.m$intel.pre, data.m$intel.post, method=\"paired\")\n",
    "cohensD(data.f$verbal.pre, data.f$verbal.post, method=\"paired\")\n",
    "cohensD(data.f$spatial.pre, data.f$spatial.post, method=\"paired\")\n",
    "cohensD(data.f$intel.pre, data.f$intel.post, method=\"paired\")"
   ]
  },
  {
   "cell_type": "code",
   "execution_count": 18,
   "metadata": {},
   "outputs": [
    {
     "name": "stdout",
     "output_type": "stream",
     "text": [
      "[1] \"10. Based on the present data, are you convinced that malleable feedback is beneficial to performance when engaging in a cognitive training program?\"\n"
     ]
    }
   ],
   "source": [
    "print(\"10. Based on the present data, are you convinced that malleable feedback is beneficial to performance when engaging in a cognitive training program?\") # it depends.\n",
    "# cohen's D is high for verbal. Not so different for others."
   ]
  },
  {
   "cell_type": "code",
   "execution_count": null,
   "metadata": {
    "collapsed": true
   },
   "outputs": [],
   "source": []
  }
 ],
 "metadata": {
  "kernelspec": {
   "display_name": "R",
   "language": "R",
   "name": "ir"
  },
  "language_info": {
   "codemirror_mode": "r",
   "file_extension": ".r",
   "mimetype": "text/x-r-source",
   "name": "R",
   "pygments_lexer": "r",
   "version": "3.3.1"
  }
 },
 "nbformat": 4,
 "nbformat_minor": 2
}
